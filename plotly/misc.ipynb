{
 "cells": [
  {
   "cell_type": "code",
   "execution_count": 1,
   "metadata": {},
   "outputs": [
    {
     "ename": "ImportError",
     "evalue": "cannot import name 'time_it' from 'python_utils' (/home/viveksharma697/.local/lib/python3.8/site-packages/python_utils/__init__.py)",
     "output_type": "error",
     "traceback": [
      "\u001b[0;31m---------------------------------------------------------------------------\u001b[0m",
      "\u001b[0;31mImportError\u001b[0m                               Traceback (most recent call last)",
      "\u001b[1;32m/home/viveksharma697/git hub projects/algo_start/plotly/misc.ipynb Cell 1'\u001b[0m in \u001b[0;36m<cell line: 1>\u001b[0;34m()\u001b[0m\n\u001b[0;32m----> <a href='vscode-notebook-cell:/home/viveksharma697/git%20hub%20projects/algo_start/plotly/misc.ipynb#ch0000000?line=0'>1</a>\u001b[0m \u001b[39mfrom\u001b[39;00m \u001b[39mpython_utils\u001b[39;00m \u001b[39mimport\u001b[39;00m time_it\n\u001b[1;32m      <a href='vscode-notebook-cell:/home/viveksharma697/git%20hub%20projects/algo_start/plotly/misc.ipynb#ch0000000?line=2'>3</a>\u001b[0m \u001b[39m@time_it\u001b[39m\n\u001b[1;32m      <a href='vscode-notebook-cell:/home/viveksharma697/git%20hub%20projects/algo_start/plotly/misc.ipynb#ch0000000?line=3'>4</a>\u001b[0m \u001b[39mdef\u001b[39;00m \u001b[39mlinear_search\u001b[39m(numbers_list, number_to_find):\n\u001b[1;32m      <a href='vscode-notebook-cell:/home/viveksharma697/git%20hub%20projects/algo_start/plotly/misc.ipynb#ch0000000?line=4'>5</a>\u001b[0m     \u001b[39mfor\u001b[39;00m index, element \u001b[39min\u001b[39;00m \u001b[39menumerate\u001b[39m(numbers_list):\n",
      "\u001b[0;31mImportError\u001b[0m: cannot import name 'time_it' from 'python_utils' (/home/viveksharma697/.local/lib/python3.8/site-packages/python_utils/__init__.py)"
     ]
    }
   ],
   "source": [
    "import time_it\n",
    "\n",
    "@time_it\n",
    "def linear_search(numbers_list, number_to_find):\n",
    "    for index, element in enumerate(numbers_list):\n",
    "        if element == number_to_find:\n",
    "            return index\n",
    "    return -1\n",
    "\n",
    "@time_it\n",
    "def binary_search(numbers_list, number_to_find):\n",
    "    left_index = 0\n",
    "    right_index = len(numbers_list) - 1\n",
    "    mid_index = 0\n",
    "\n",
    "    while left_index <= right_index:\n",
    "        mid_index = (left_index + right_index) // 2\n",
    "        mid_number = numbers_list[mid_index]\n",
    "\n",
    "        if mid_number == number_to_find:\n",
    "            return mid_index\n",
    "\n",
    "        if mid_number < number_to_find:\n",
    "            left_index = mid_index + 1\n",
    "        else:\n",
    "            right_index = mid_index - 1\n",
    "\n",
    "    return -1\n",
    "\n",
    "def binary_search_recursive(numbers_list, number_to_find, left_index, right_index):\n",
    "    if right_index < left_index:\n",
    "        return -1\n",
    "\n",
    "    mid_index = (left_index + right_index) // 2\n",
    "    if mid_index >= len(numbers_list) or mid_index < 0:\n",
    "        return -1\n",
    "\n",
    "    mid_number = numbers_list[mid_index]\n",
    "\n",
    "    if mid_number == number_to_find:\n",
    "        return mid_index\n",
    "\n",
    "    if mid_number < number_to_find:\n",
    "        left_index = mid_index + 1\n",
    "    else:\n",
    "        right_index = mid_index - 1\n",
    "\n",
    "    return binary_search_recursive(numbers_list, number_to_find, left_index, right_index)\n",
    "\n",
    "if __name__ == '__main__':\n",
    "    numbers_list = [12, 15, 17, 19, 21, 24, 45, 67]\n",
    "    number_to_find = 21\n",
    "\n",
    "    index = binary_search_recursive(numbers_list, number_to_find, 0, len(numbers_list))\n",
    "    print(f\"Number found at index {index} using binary search\")"
   ]
  }
 ],
 "metadata": {
  "interpreter": {
   "hash": "916dbcbb3f70747c44a77c7bcd40155683ae19c65e1c03b4aa3499c5328201f1"
  },
  "kernelspec": {
   "display_name": "Python 3.8.10 64-bit",
   "language": "python",
   "name": "python3"
  },
  "language_info": {
   "codemirror_mode": {
    "name": "ipython",
    "version": 3
   },
   "file_extension": ".py",
   "mimetype": "text/x-python",
   "name": "python",
   "nbconvert_exporter": "python",
   "pygments_lexer": "ipython3",
   "version": "3.8.10"
  },
  "orig_nbformat": 4
 },
 "nbformat": 4,
 "nbformat_minor": 2
}
