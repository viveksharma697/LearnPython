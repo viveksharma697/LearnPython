{
 "cells": [
  {
   "cell_type": "code",
   "execution_count": 3,
   "metadata": {},
   "outputs": [
    {
     "data": {
      "application/vnd.plotly.v1+json": {
       "config": {
        "plotlyServerURL": "https://plot.ly"
       },
       "data": [
        {
         "hoverinfo": "none",
         "line": {
          "color": "rgb(210,210,210)",
          "width": 1
         },
         "mode": "lines",
         "type": "scatter",
         "x": [
          0,
          -6.46875,
          null,
          0,
          6.46875,
          null,
          -6.46875,
          -10.46875,
          null,
          -6.46875,
          -2.46875,
          null,
          6.46875,
          4.40625,
          null,
          6.46875,
          8.53125,
          null,
          -10.46875,
          -12.46875,
          null,
          -10.46875,
          -8.46875,
          null,
          -2.46875,
          -4.46875,
          null,
          -2.46875,
          -0.46875,
          null,
          4.40625,
          3.28125,
          null,
          4.40625,
          5.53125,
          null,
          8.53125,
          7.53125,
          null,
          8.53125,
          9.53125,
          null,
          -12.46875,
          -13.46875,
          null,
          -12.46875,
          -11.46875,
          null,
          -8.46875,
          -9.46875,
          null,
          -8.46875,
          -7.46875,
          null,
          -4.46875,
          -5.46875,
          null,
          -4.46875,
          -3.46875,
          null,
          -0.46875,
          -1.46875,
          null,
          -0.46875,
          0.53125,
          null,
          3.28125,
          2.53125,
          null,
          3.28125,
          4.03125,
          null,
          5.53125,
          5.03125,
          null,
          5.53125,
          6.03125,
          null,
          7.53125,
          7.03125,
          null,
          7.53125,
          8.03125,
          null,
          9.53125,
          9.03125,
          null,
          9.53125,
          10.03125,
          null,
          -13.46875,
          -13.96875,
          null,
          -13.46875,
          -12.96875,
          null,
          -11.46875,
          -11.96875,
          null,
          -11.46875,
          -10.96875,
          null,
          -9.46875,
          -9.96875,
          null,
          -9.46875,
          -8.96875,
          null,
          -7.46875,
          -7.96875,
          null,
          -7.46875,
          -6.96875,
          null,
          -5.46875,
          -5.96875,
          null,
          -5.46875,
          -4.96875,
          null,
          -3.46875,
          -3.96875,
          null,
          -3.46875,
          -2.96875,
          null,
          -1.46875,
          -1.96875,
          null,
          -1.46875,
          -0.96875,
          null,
          0.53125,
          0.03125,
          null,
          0.53125,
          1.03125,
          null,
          2.53125,
          2.03125,
          null,
          2.53125,
          3.03125,
          null,
          4.03125,
          4.03125,
          null
         ],
         "y": [
          10,
          9,
          null,
          10,
          9,
          null,
          9,
          8,
          null,
          9,
          8,
          null,
          9,
          8,
          null,
          9,
          8,
          null,
          8,
          7,
          null,
          8,
          7,
          null,
          8,
          7,
          null,
          8,
          7,
          null,
          8,
          7,
          null,
          8,
          7,
          null,
          8,
          7,
          null,
          8,
          7,
          null,
          7,
          6,
          null,
          7,
          6,
          null,
          7,
          6,
          null,
          7,
          6,
          null,
          7,
          6,
          null,
          7,
          6,
          null,
          7,
          6,
          null,
          7,
          6,
          null,
          7,
          6,
          null,
          7,
          6,
          null,
          7,
          6,
          null,
          7,
          6,
          null,
          7,
          6,
          null,
          7,
          6,
          null,
          7,
          6,
          null,
          7,
          6,
          null,
          6,
          5,
          null,
          6,
          5,
          null,
          6,
          5,
          null,
          6,
          5,
          null,
          6,
          5,
          null,
          6,
          5,
          null,
          6,
          5,
          null,
          6,
          5,
          null,
          6,
          5,
          null,
          6,
          5,
          null,
          6,
          5,
          null,
          6,
          5,
          null,
          6,
          5,
          null,
          6,
          5,
          null,
          6,
          5,
          null,
          6,
          5,
          null,
          6,
          5,
          null,
          6,
          5,
          null,
          6,
          5,
          null
         ]
        },
        {
         "hoverinfo": "text",
         "marker": {
          "color": "#6175c1",
          "line": {
           "color": "rgb(50,50,50)",
           "width": 1
          },
          "size": 18,
          "symbol": "circle-dot"
         },
         "mode": "markers",
         "name": "bla",
         "opacity": 0.8,
         "text": [
          "0",
          "1",
          "2",
          "3",
          "4",
          "5",
          "6",
          "7",
          "8",
          "9",
          "10",
          "11",
          "12",
          "13",
          "14",
          "15",
          "16",
          "17",
          "18",
          "19",
          "20",
          "21",
          "22",
          "23",
          "24",
          "25",
          "26",
          "27",
          "28",
          "29",
          "30",
          "31",
          "32",
          "33",
          "34",
          "35",
          "36",
          "37",
          "38",
          "39",
          "40",
          "41",
          "42",
          "43",
          "44",
          "45",
          "46",
          "47",
          "48",
          "49"
         ],
         "type": "scatter",
         "x": [
          0,
          -6.46875,
          6.46875,
          -10.46875,
          -2.46875,
          4.40625,
          8.53125,
          -12.46875,
          -8.46875,
          -4.46875,
          -0.46875,
          3.28125,
          5.53125,
          7.53125,
          9.53125,
          -13.46875,
          -11.46875,
          -9.46875,
          -7.46875,
          -5.46875,
          -3.46875,
          -1.46875,
          0.53125,
          2.53125,
          4.03125,
          5.03125,
          6.03125,
          7.03125,
          8.03125,
          9.03125,
          10.03125,
          -13.96875,
          -12.96875,
          -11.96875,
          -10.96875,
          -9.96875,
          -8.96875,
          -7.96875,
          -6.96875,
          -5.96875,
          -4.96875,
          -3.96875,
          -2.96875,
          -1.96875,
          -0.96875,
          0.03125,
          1.03125,
          2.03125,
          3.03125,
          4.03125
         ],
         "y": [
          10,
          9,
          9,
          8,
          8,
          8,
          8,
          7,
          7,
          7,
          7,
          7,
          7,
          7,
          7,
          6,
          6,
          6,
          6,
          6,
          6,
          6,
          6,
          6,
          6,
          6,
          6,
          6,
          6,
          6,
          6,
          5,
          5,
          5,
          5,
          5,
          5,
          5,
          5,
          5,
          5,
          5,
          5,
          5,
          5,
          5,
          5,
          5,
          5,
          5
         ]
        }
       ],
       "layout": {
        "annotations": [
         {
          "font": {
           "color": "rgb(250,250,250)",
           "size": 10
          },
          "showarrow": false,
          "text": "0",
          "x": 0,
          "xref": "x",
          "y": 10,
          "yref": "y"
         },
         {
          "font": {
           "color": "rgb(250,250,250)",
           "size": 10
          },
          "showarrow": false,
          "text": "1",
          "x": -6.46875,
          "xref": "x",
          "y": 9,
          "yref": "y"
         },
         {
          "font": {
           "color": "rgb(250,250,250)",
           "size": 10
          },
          "showarrow": false,
          "text": "2",
          "x": 6.46875,
          "xref": "x",
          "y": 9,
          "yref": "y"
         },
         {
          "font": {
           "color": "rgb(250,250,250)",
           "size": 10
          },
          "showarrow": false,
          "text": "3",
          "x": -10.46875,
          "xref": "x",
          "y": 8,
          "yref": "y"
         },
         {
          "font": {
           "color": "rgb(250,250,250)",
           "size": 10
          },
          "showarrow": false,
          "text": "4",
          "x": -2.46875,
          "xref": "x",
          "y": 8,
          "yref": "y"
         },
         {
          "font": {
           "color": "rgb(250,250,250)",
           "size": 10
          },
          "showarrow": false,
          "text": "5",
          "x": 4.40625,
          "xref": "x",
          "y": 8,
          "yref": "y"
         },
         {
          "font": {
           "color": "rgb(250,250,250)",
           "size": 10
          },
          "showarrow": false,
          "text": "6",
          "x": 8.53125,
          "xref": "x",
          "y": 8,
          "yref": "y"
         },
         {
          "font": {
           "color": "rgb(250,250,250)",
           "size": 10
          },
          "showarrow": false,
          "text": "7",
          "x": -12.46875,
          "xref": "x",
          "y": 7,
          "yref": "y"
         },
         {
          "font": {
           "color": "rgb(250,250,250)",
           "size": 10
          },
          "showarrow": false,
          "text": "8",
          "x": -8.46875,
          "xref": "x",
          "y": 7,
          "yref": "y"
         },
         {
          "font": {
           "color": "rgb(250,250,250)",
           "size": 10
          },
          "showarrow": false,
          "text": "9",
          "x": -4.46875,
          "xref": "x",
          "y": 7,
          "yref": "y"
         },
         {
          "font": {
           "color": "rgb(250,250,250)",
           "size": 10
          },
          "showarrow": false,
          "text": "10",
          "x": -0.46875,
          "xref": "x",
          "y": 7,
          "yref": "y"
         },
         {
          "font": {
           "color": "rgb(250,250,250)",
           "size": 10
          },
          "showarrow": false,
          "text": "11",
          "x": 3.28125,
          "xref": "x",
          "y": 7,
          "yref": "y"
         },
         {
          "font": {
           "color": "rgb(250,250,250)",
           "size": 10
          },
          "showarrow": false,
          "text": "12",
          "x": 5.53125,
          "xref": "x",
          "y": 7,
          "yref": "y"
         },
         {
          "font": {
           "color": "rgb(250,250,250)",
           "size": 10
          },
          "showarrow": false,
          "text": "13",
          "x": 7.53125,
          "xref": "x",
          "y": 7,
          "yref": "y"
         },
         {
          "font": {
           "color": "rgb(250,250,250)",
           "size": 10
          },
          "showarrow": false,
          "text": "14",
          "x": 9.53125,
          "xref": "x",
          "y": 7,
          "yref": "y"
         },
         {
          "font": {
           "color": "rgb(250,250,250)",
           "size": 10
          },
          "showarrow": false,
          "text": "15",
          "x": -13.46875,
          "xref": "x",
          "y": 6,
          "yref": "y"
         },
         {
          "font": {
           "color": "rgb(250,250,250)",
           "size": 10
          },
          "showarrow": false,
          "text": "16",
          "x": -11.46875,
          "xref": "x",
          "y": 6,
          "yref": "y"
         },
         {
          "font": {
           "color": "rgb(250,250,250)",
           "size": 10
          },
          "showarrow": false,
          "text": "17",
          "x": -9.46875,
          "xref": "x",
          "y": 6,
          "yref": "y"
         },
         {
          "font": {
           "color": "rgb(250,250,250)",
           "size": 10
          },
          "showarrow": false,
          "text": "18",
          "x": -7.46875,
          "xref": "x",
          "y": 6,
          "yref": "y"
         },
         {
          "font": {
           "color": "rgb(250,250,250)",
           "size": 10
          },
          "showarrow": false,
          "text": "19",
          "x": -5.46875,
          "xref": "x",
          "y": 6,
          "yref": "y"
         },
         {
          "font": {
           "color": "rgb(250,250,250)",
           "size": 10
          },
          "showarrow": false,
          "text": "20",
          "x": -3.46875,
          "xref": "x",
          "y": 6,
          "yref": "y"
         },
         {
          "font": {
           "color": "rgb(250,250,250)",
           "size": 10
          },
          "showarrow": false,
          "text": "21",
          "x": -1.46875,
          "xref": "x",
          "y": 6,
          "yref": "y"
         },
         {
          "font": {
           "color": "rgb(250,250,250)",
           "size": 10
          },
          "showarrow": false,
          "text": "22",
          "x": 0.53125,
          "xref": "x",
          "y": 6,
          "yref": "y"
         },
         {
          "font": {
           "color": "rgb(250,250,250)",
           "size": 10
          },
          "showarrow": false,
          "text": "23",
          "x": 2.53125,
          "xref": "x",
          "y": 6,
          "yref": "y"
         },
         {
          "font": {
           "color": "rgb(250,250,250)",
           "size": 10
          },
          "showarrow": false,
          "text": "24",
          "x": 4.03125,
          "xref": "x",
          "y": 6,
          "yref": "y"
         },
         {
          "font": {
           "color": "rgb(250,250,250)",
           "size": 10
          },
          "showarrow": false,
          "text": "25",
          "x": 5.03125,
          "xref": "x",
          "y": 6,
          "yref": "y"
         },
         {
          "font": {
           "color": "rgb(250,250,250)",
           "size": 10
          },
          "showarrow": false,
          "text": "26",
          "x": 6.03125,
          "xref": "x",
          "y": 6,
          "yref": "y"
         },
         {
          "font": {
           "color": "rgb(250,250,250)",
           "size": 10
          },
          "showarrow": false,
          "text": "27",
          "x": 7.03125,
          "xref": "x",
          "y": 6,
          "yref": "y"
         },
         {
          "font": {
           "color": "rgb(250,250,250)",
           "size": 10
          },
          "showarrow": false,
          "text": "28",
          "x": 8.03125,
          "xref": "x",
          "y": 6,
          "yref": "y"
         },
         {
          "font": {
           "color": "rgb(250,250,250)",
           "size": 10
          },
          "showarrow": false,
          "text": "29",
          "x": 9.03125,
          "xref": "x",
          "y": 6,
          "yref": "y"
         },
         {
          "font": {
           "color": "rgb(250,250,250)",
           "size": 10
          },
          "showarrow": false,
          "text": "30",
          "x": 10.03125,
          "xref": "x",
          "y": 6,
          "yref": "y"
         },
         {
          "font": {
           "color": "rgb(250,250,250)",
           "size": 10
          },
          "showarrow": false,
          "text": "31",
          "x": -13.96875,
          "xref": "x",
          "y": 5,
          "yref": "y"
         },
         {
          "font": {
           "color": "rgb(250,250,250)",
           "size": 10
          },
          "showarrow": false,
          "text": "32",
          "x": -12.96875,
          "xref": "x",
          "y": 5,
          "yref": "y"
         },
         {
          "font": {
           "color": "rgb(250,250,250)",
           "size": 10
          },
          "showarrow": false,
          "text": "33",
          "x": -11.96875,
          "xref": "x",
          "y": 5,
          "yref": "y"
         },
         {
          "font": {
           "color": "rgb(250,250,250)",
           "size": 10
          },
          "showarrow": false,
          "text": "34",
          "x": -10.96875,
          "xref": "x",
          "y": 5,
          "yref": "y"
         },
         {
          "font": {
           "color": "rgb(250,250,250)",
           "size": 10
          },
          "showarrow": false,
          "text": "35",
          "x": -9.96875,
          "xref": "x",
          "y": 5,
          "yref": "y"
         },
         {
          "font": {
           "color": "rgb(250,250,250)",
           "size": 10
          },
          "showarrow": false,
          "text": "36",
          "x": -8.96875,
          "xref": "x",
          "y": 5,
          "yref": "y"
         },
         {
          "font": {
           "color": "rgb(250,250,250)",
           "size": 10
          },
          "showarrow": false,
          "text": "37",
          "x": -7.96875,
          "xref": "x",
          "y": 5,
          "yref": "y"
         },
         {
          "font": {
           "color": "rgb(250,250,250)",
           "size": 10
          },
          "showarrow": false,
          "text": "38",
          "x": -6.96875,
          "xref": "x",
          "y": 5,
          "yref": "y"
         },
         {
          "font": {
           "color": "rgb(250,250,250)",
           "size": 10
          },
          "showarrow": false,
          "text": "39",
          "x": -5.96875,
          "xref": "x",
          "y": 5,
          "yref": "y"
         },
         {
          "font": {
           "color": "rgb(250,250,250)",
           "size": 10
          },
          "showarrow": false,
          "text": "40",
          "x": -4.96875,
          "xref": "x",
          "y": 5,
          "yref": "y"
         },
         {
          "font": {
           "color": "rgb(250,250,250)",
           "size": 10
          },
          "showarrow": false,
          "text": "41",
          "x": -3.96875,
          "xref": "x",
          "y": 5,
          "yref": "y"
         },
         {
          "font": {
           "color": "rgb(250,250,250)",
           "size": 10
          },
          "showarrow": false,
          "text": "42",
          "x": -2.96875,
          "xref": "x",
          "y": 5,
          "yref": "y"
         },
         {
          "font": {
           "color": "rgb(250,250,250)",
           "size": 10
          },
          "showarrow": false,
          "text": "43",
          "x": -1.96875,
          "xref": "x",
          "y": 5,
          "yref": "y"
         },
         {
          "font": {
           "color": "rgb(250,250,250)",
           "size": 10
          },
          "showarrow": false,
          "text": "44",
          "x": -0.96875,
          "xref": "x",
          "y": 5,
          "yref": "y"
         },
         {
          "font": {
           "color": "rgb(250,250,250)",
           "size": 10
          },
          "showarrow": false,
          "text": "45",
          "x": 0.03125,
          "xref": "x",
          "y": 5,
          "yref": "y"
         },
         {
          "font": {
           "color": "rgb(250,250,250)",
           "size": 10
          },
          "showarrow": false,
          "text": "46",
          "x": 1.03125,
          "xref": "x",
          "y": 5,
          "yref": "y"
         },
         {
          "font": {
           "color": "rgb(250,250,250)",
           "size": 10
          },
          "showarrow": false,
          "text": "47",
          "x": 2.03125,
          "xref": "x",
          "y": 5,
          "yref": "y"
         },
         {
          "font": {
           "color": "rgb(250,250,250)",
           "size": 10
          },
          "showarrow": false,
          "text": "48",
          "x": 3.03125,
          "xref": "x",
          "y": 5,
          "yref": "y"
         },
         {
          "font": {
           "color": "rgb(250,250,250)",
           "size": 10
          },
          "showarrow": false,
          "text": "49",
          "x": 4.03125,
          "xref": "x",
          "y": 5,
          "yref": "y"
         }
        ],
        "font": {
         "size": 12
        },
        "hovermode": "closest",
        "margin": {
         "b": 85,
         "l": 40,
         "r": 40,
         "t": 100
        },
        "plot_bgcolor": "rgb(248,248,248)",
        "showlegend": false,
        "template": {
         "data": {
          "bar": [
           {
            "error_x": {
             "color": "#2a3f5f"
            },
            "error_y": {
             "color": "#2a3f5f"
            },
            "marker": {
             "line": {
              "color": "#E5ECF6",
              "width": 0.5
             },
             "pattern": {
              "fillmode": "overlay",
              "size": 10,
              "solidity": 0.2
             }
            },
            "type": "bar"
           }
          ],
          "barpolar": [
           {
            "marker": {
             "line": {
              "color": "#E5ECF6",
              "width": 0.5
             },
             "pattern": {
              "fillmode": "overlay",
              "size": 10,
              "solidity": 0.2
             }
            },
            "type": "barpolar"
           }
          ],
          "carpet": [
           {
            "aaxis": {
             "endlinecolor": "#2a3f5f",
             "gridcolor": "white",
             "linecolor": "white",
             "minorgridcolor": "white",
             "startlinecolor": "#2a3f5f"
            },
            "baxis": {
             "endlinecolor": "#2a3f5f",
             "gridcolor": "white",
             "linecolor": "white",
             "minorgridcolor": "white",
             "startlinecolor": "#2a3f5f"
            },
            "type": "carpet"
           }
          ],
          "choropleth": [
           {
            "colorbar": {
             "outlinewidth": 0,
             "ticks": ""
            },
            "type": "choropleth"
           }
          ],
          "contour": [
           {
            "colorbar": {
             "outlinewidth": 0,
             "ticks": ""
            },
            "colorscale": [
             [
              0,
              "#0d0887"
             ],
             [
              0.1111111111111111,
              "#46039f"
             ],
             [
              0.2222222222222222,
              "#7201a8"
             ],
             [
              0.3333333333333333,
              "#9c179e"
             ],
             [
              0.4444444444444444,
              "#bd3786"
             ],
             [
              0.5555555555555556,
              "#d8576b"
             ],
             [
              0.6666666666666666,
              "#ed7953"
             ],
             [
              0.7777777777777778,
              "#fb9f3a"
             ],
             [
              0.8888888888888888,
              "#fdca26"
             ],
             [
              1,
              "#f0f921"
             ]
            ],
            "type": "contour"
           }
          ],
          "contourcarpet": [
           {
            "colorbar": {
             "outlinewidth": 0,
             "ticks": ""
            },
            "type": "contourcarpet"
           }
          ],
          "heatmap": [
           {
            "colorbar": {
             "outlinewidth": 0,
             "ticks": ""
            },
            "colorscale": [
             [
              0,
              "#0d0887"
             ],
             [
              0.1111111111111111,
              "#46039f"
             ],
             [
              0.2222222222222222,
              "#7201a8"
             ],
             [
              0.3333333333333333,
              "#9c179e"
             ],
             [
              0.4444444444444444,
              "#bd3786"
             ],
             [
              0.5555555555555556,
              "#d8576b"
             ],
             [
              0.6666666666666666,
              "#ed7953"
             ],
             [
              0.7777777777777778,
              "#fb9f3a"
             ],
             [
              0.8888888888888888,
              "#fdca26"
             ],
             [
              1,
              "#f0f921"
             ]
            ],
            "type": "heatmap"
           }
          ],
          "heatmapgl": [
           {
            "colorbar": {
             "outlinewidth": 0,
             "ticks": ""
            },
            "colorscale": [
             [
              0,
              "#0d0887"
             ],
             [
              0.1111111111111111,
              "#46039f"
             ],
             [
              0.2222222222222222,
              "#7201a8"
             ],
             [
              0.3333333333333333,
              "#9c179e"
             ],
             [
              0.4444444444444444,
              "#bd3786"
             ],
             [
              0.5555555555555556,
              "#d8576b"
             ],
             [
              0.6666666666666666,
              "#ed7953"
             ],
             [
              0.7777777777777778,
              "#fb9f3a"
             ],
             [
              0.8888888888888888,
              "#fdca26"
             ],
             [
              1,
              "#f0f921"
             ]
            ],
            "type": "heatmapgl"
           }
          ],
          "histogram": [
           {
            "marker": {
             "pattern": {
              "fillmode": "overlay",
              "size": 10,
              "solidity": 0.2
             }
            },
            "type": "histogram"
           }
          ],
          "histogram2d": [
           {
            "colorbar": {
             "outlinewidth": 0,
             "ticks": ""
            },
            "colorscale": [
             [
              0,
              "#0d0887"
             ],
             [
              0.1111111111111111,
              "#46039f"
             ],
             [
              0.2222222222222222,
              "#7201a8"
             ],
             [
              0.3333333333333333,
              "#9c179e"
             ],
             [
              0.4444444444444444,
              "#bd3786"
             ],
             [
              0.5555555555555556,
              "#d8576b"
             ],
             [
              0.6666666666666666,
              "#ed7953"
             ],
             [
              0.7777777777777778,
              "#fb9f3a"
             ],
             [
              0.8888888888888888,
              "#fdca26"
             ],
             [
              1,
              "#f0f921"
             ]
            ],
            "type": "histogram2d"
           }
          ],
          "histogram2dcontour": [
           {
            "colorbar": {
             "outlinewidth": 0,
             "ticks": ""
            },
            "colorscale": [
             [
              0,
              "#0d0887"
             ],
             [
              0.1111111111111111,
              "#46039f"
             ],
             [
              0.2222222222222222,
              "#7201a8"
             ],
             [
              0.3333333333333333,
              "#9c179e"
             ],
             [
              0.4444444444444444,
              "#bd3786"
             ],
             [
              0.5555555555555556,
              "#d8576b"
             ],
             [
              0.6666666666666666,
              "#ed7953"
             ],
             [
              0.7777777777777778,
              "#fb9f3a"
             ],
             [
              0.8888888888888888,
              "#fdca26"
             ],
             [
              1,
              "#f0f921"
             ]
            ],
            "type": "histogram2dcontour"
           }
          ],
          "mesh3d": [
           {
            "colorbar": {
             "outlinewidth": 0,
             "ticks": ""
            },
            "type": "mesh3d"
           }
          ],
          "parcoords": [
           {
            "line": {
             "colorbar": {
              "outlinewidth": 0,
              "ticks": ""
             }
            },
            "type": "parcoords"
           }
          ],
          "pie": [
           {
            "automargin": true,
            "type": "pie"
           }
          ],
          "scatter": [
           {
            "marker": {
             "colorbar": {
              "outlinewidth": 0,
              "ticks": ""
             }
            },
            "type": "scatter"
           }
          ],
          "scatter3d": [
           {
            "line": {
             "colorbar": {
              "outlinewidth": 0,
              "ticks": ""
             }
            },
            "marker": {
             "colorbar": {
              "outlinewidth": 0,
              "ticks": ""
             }
            },
            "type": "scatter3d"
           }
          ],
          "scattercarpet": [
           {
            "marker": {
             "colorbar": {
              "outlinewidth": 0,
              "ticks": ""
             }
            },
            "type": "scattercarpet"
           }
          ],
          "scattergeo": [
           {
            "marker": {
             "colorbar": {
              "outlinewidth": 0,
              "ticks": ""
             }
            },
            "type": "scattergeo"
           }
          ],
          "scattergl": [
           {
            "marker": {
             "colorbar": {
              "outlinewidth": 0,
              "ticks": ""
             }
            },
            "type": "scattergl"
           }
          ],
          "scattermapbox": [
           {
            "marker": {
             "colorbar": {
              "outlinewidth": 0,
              "ticks": ""
             }
            },
            "type": "scattermapbox"
           }
          ],
          "scatterpolar": [
           {
            "marker": {
             "colorbar": {
              "outlinewidth": 0,
              "ticks": ""
             }
            },
            "type": "scatterpolar"
           }
          ],
          "scatterpolargl": [
           {
            "marker": {
             "colorbar": {
              "outlinewidth": 0,
              "ticks": ""
             }
            },
            "type": "scatterpolargl"
           }
          ],
          "scatterternary": [
           {
            "marker": {
             "colorbar": {
              "outlinewidth": 0,
              "ticks": ""
             }
            },
            "type": "scatterternary"
           }
          ],
          "surface": [
           {
            "colorbar": {
             "outlinewidth": 0,
             "ticks": ""
            },
            "colorscale": [
             [
              0,
              "#0d0887"
             ],
             [
              0.1111111111111111,
              "#46039f"
             ],
             [
              0.2222222222222222,
              "#7201a8"
             ],
             [
              0.3333333333333333,
              "#9c179e"
             ],
             [
              0.4444444444444444,
              "#bd3786"
             ],
             [
              0.5555555555555556,
              "#d8576b"
             ],
             [
              0.6666666666666666,
              "#ed7953"
             ],
             [
              0.7777777777777778,
              "#fb9f3a"
             ],
             [
              0.8888888888888888,
              "#fdca26"
             ],
             [
              1,
              "#f0f921"
             ]
            ],
            "type": "surface"
           }
          ],
          "table": [
           {
            "cells": {
             "fill": {
              "color": "#EBF0F8"
             },
             "line": {
              "color": "white"
             }
            },
            "header": {
             "fill": {
              "color": "#C8D4E3"
             },
             "line": {
              "color": "white"
             }
            },
            "type": "table"
           }
          ]
         },
         "layout": {
          "annotationdefaults": {
           "arrowcolor": "#2a3f5f",
           "arrowhead": 0,
           "arrowwidth": 1
          },
          "autotypenumbers": "strict",
          "coloraxis": {
           "colorbar": {
            "outlinewidth": 0,
            "ticks": ""
           }
          },
          "colorscale": {
           "diverging": [
            [
             0,
             "#8e0152"
            ],
            [
             0.1,
             "#c51b7d"
            ],
            [
             0.2,
             "#de77ae"
            ],
            [
             0.3,
             "#f1b6da"
            ],
            [
             0.4,
             "#fde0ef"
            ],
            [
             0.5,
             "#f7f7f7"
            ],
            [
             0.6,
             "#e6f5d0"
            ],
            [
             0.7,
             "#b8e186"
            ],
            [
             0.8,
             "#7fbc41"
            ],
            [
             0.9,
             "#4d9221"
            ],
            [
             1,
             "#276419"
            ]
           ],
           "sequential": [
            [
             0,
             "#0d0887"
            ],
            [
             0.1111111111111111,
             "#46039f"
            ],
            [
             0.2222222222222222,
             "#7201a8"
            ],
            [
             0.3333333333333333,
             "#9c179e"
            ],
            [
             0.4444444444444444,
             "#bd3786"
            ],
            [
             0.5555555555555556,
             "#d8576b"
            ],
            [
             0.6666666666666666,
             "#ed7953"
            ],
            [
             0.7777777777777778,
             "#fb9f3a"
            ],
            [
             0.8888888888888888,
             "#fdca26"
            ],
            [
             1,
             "#f0f921"
            ]
           ],
           "sequentialminus": [
            [
             0,
             "#0d0887"
            ],
            [
             0.1111111111111111,
             "#46039f"
            ],
            [
             0.2222222222222222,
             "#7201a8"
            ],
            [
             0.3333333333333333,
             "#9c179e"
            ],
            [
             0.4444444444444444,
             "#bd3786"
            ],
            [
             0.5555555555555556,
             "#d8576b"
            ],
            [
             0.6666666666666666,
             "#ed7953"
            ],
            [
             0.7777777777777778,
             "#fb9f3a"
            ],
            [
             0.8888888888888888,
             "#fdca26"
            ],
            [
             1,
             "#f0f921"
            ]
           ]
          },
          "colorway": [
           "#636efa",
           "#EF553B",
           "#00cc96",
           "#ab63fa",
           "#FFA15A",
           "#19d3f3",
           "#FF6692",
           "#B6E880",
           "#FF97FF",
           "#FECB52"
          ],
          "font": {
           "color": "#2a3f5f"
          },
          "geo": {
           "bgcolor": "white",
           "lakecolor": "white",
           "landcolor": "#E5ECF6",
           "showlakes": true,
           "showland": true,
           "subunitcolor": "white"
          },
          "hoverlabel": {
           "align": "left"
          },
          "hovermode": "closest",
          "mapbox": {
           "style": "light"
          },
          "paper_bgcolor": "white",
          "plot_bgcolor": "#E5ECF6",
          "polar": {
           "angularaxis": {
            "gridcolor": "white",
            "linecolor": "white",
            "ticks": ""
           },
           "bgcolor": "#E5ECF6",
           "radialaxis": {
            "gridcolor": "white",
            "linecolor": "white",
            "ticks": ""
           }
          },
          "scene": {
           "xaxis": {
            "backgroundcolor": "#E5ECF6",
            "gridcolor": "white",
            "gridwidth": 2,
            "linecolor": "white",
            "showbackground": true,
            "ticks": "",
            "zerolinecolor": "white"
           },
           "yaxis": {
            "backgroundcolor": "#E5ECF6",
            "gridcolor": "white",
            "gridwidth": 2,
            "linecolor": "white",
            "showbackground": true,
            "ticks": "",
            "zerolinecolor": "white"
           },
           "zaxis": {
            "backgroundcolor": "#E5ECF6",
            "gridcolor": "white",
            "gridwidth": 2,
            "linecolor": "white",
            "showbackground": true,
            "ticks": "",
            "zerolinecolor": "white"
           }
          },
          "shapedefaults": {
           "line": {
            "color": "#2a3f5f"
           }
          },
          "ternary": {
           "aaxis": {
            "gridcolor": "white",
            "linecolor": "white",
            "ticks": ""
           },
           "baxis": {
            "gridcolor": "white",
            "linecolor": "white",
            "ticks": ""
           },
           "bgcolor": "#E5ECF6",
           "caxis": {
            "gridcolor": "white",
            "linecolor": "white",
            "ticks": ""
           }
          },
          "title": {
           "x": 0.05
          },
          "xaxis": {
           "automargin": true,
           "gridcolor": "white",
           "linecolor": "white",
           "ticks": "",
           "title": {
            "standoff": 15
           },
           "zerolinecolor": "white",
           "zerolinewidth": 2
          },
          "yaxis": {
           "automargin": true,
           "gridcolor": "white",
           "linecolor": "white",
           "ticks": "",
           "title": {
            "standoff": 15
           },
           "zerolinecolor": "white",
           "zerolinewidth": 2
          }
         }
        },
        "title": {
         "text": "Tree with Reingold-Tilford Layout"
        },
        "xaxis": {
         "showgrid": false,
         "showline": false,
         "showticklabels": false,
         "zeroline": false
        },
        "yaxis": {
         "showgrid": false,
         "showline": false,
         "showticklabels": false,
         "zeroline": false
        }
       }
      }
     },
     "metadata": {},
     "output_type": "display_data"
    }
   ],
   "source": [
    "import plotly.graph_objects as go\n",
    "import igraph\n",
    "from igraph import Graph, EdgeSeq\n",
    "nr_vertices = 50\n",
    "v_label = list(map(str, range(nr_vertices)))\n",
    "G = Graph.Tree(nr_vertices, 2)  # 2 stands for children number\n",
    "lay = G.layout('rt')\n",
    "\n",
    "position = {k: lay[k] for k in range(nr_vertices)}\n",
    "Y = [lay[k][1] for k in range(nr_vertices)]\n",
    "M = max(Y)\n",
    "\n",
    "es = EdgeSeq(G)  # sequence of edges\n",
    "E = [e.tuple for e in G.es]  # list of edges\n",
    "\n",
    "L = len(position)\n",
    "Xn = [position[k][0] for k in range(L)]\n",
    "Yn = [2*M-position[k][1] for k in range(L)]\n",
    "Xe = []\n",
    "Ye = []\n",
    "for edge in E:\n",
    "    Xe += [position[edge[0]][0], position[edge[1]][0], None]\n",
    "    Ye += [2*M-position[edge[0]][1], 2*M-position[edge[1]][1], None]\n",
    "\n",
    "labels = v_label\n",
    "\n",
    "fig = go.Figure()\n",
    "fig.add_trace(go.Scatter(x=Xe,\n",
    "                         y=Ye,\n",
    "                         mode='lines',\n",
    "                         line=dict(color='rgb(210,210,210)', width=1),\n",
    "                         hoverinfo='none'\n",
    "                         ))\n",
    "fig.add_trace(go.Scatter(x=Xn,\n",
    "                         y=Yn,\n",
    "                         mode='markers',\n",
    "                         name='bla',\n",
    "                         marker=dict(symbol='circle-dot',\n",
    "                                     size=18,\n",
    "                                     color='#6175c1',  # '#DB4551',\n",
    "                                     line=dict(color='rgb(50,50,50)', width=1)\n",
    "                                     ),\n",
    "                         text=labels,\n",
    "                         hoverinfo='text',\n",
    "                         opacity=0.8\n",
    "                         ))\n",
    "def make_annotations(pos, text, font_size=10, font_color='rgb(250,250,250)'):\n",
    "    L=len(pos)\n",
    "    if len(text)!=L:\n",
    "        raise ValueError('The lists pos and text must have the same len')\n",
    "    annotations = []\n",
    "    for k in range(L):\n",
    "        annotations.append(\n",
    "            dict(\n",
    "                text=labels[k], # or replace labels with a different list for the text within the circle\n",
    "                x=pos[k][0], y=2*M-position[k][1],\n",
    "                xref='x1', yref='y1',\n",
    "                font=dict(color=font_color, size=font_size),\n",
    "                showarrow=False)\n",
    "        )\n",
    "    return annotations\n",
    "axis = dict(showline=False, # hide axis line, grid, ticklabels and  title\n",
    "            zeroline=False,\n",
    "            showgrid=False,\n",
    "            showticklabels=False,\n",
    "            )\n",
    "\n",
    "fig.update_layout(title= 'Tree with Reingold-Tilford Layout',\n",
    "              annotations=make_annotations(position, v_label),\n",
    "              font_size=12,\n",
    "              showlegend=False,\n",
    "              xaxis=axis,\n",
    "              yaxis=axis,\n",
    "              margin=dict(l=40, r=40, b=85, t=100),\n",
    "              hovermode='closest',\n",
    "              plot_bgcolor='rgb(248,248,248)'\n",
    "              )\n",
    "fig.show()"
   ]
  },
  {
   "cell_type": "markdown",
   "metadata": {},
   "source": []
  }
 ],
 "metadata": {
  "interpreter": {
   "hash": "916dbcbb3f70747c44a77c7bcd40155683ae19c65e1c03b4aa3499c5328201f1"
  },
  "kernelspec": {
   "display_name": "Python 3.8.10 64-bit",
   "language": "python",
   "name": "python3"
  },
  "language_info": {
   "codemirror_mode": {
    "name": "ipython",
    "version": 3
   },
   "file_extension": ".py",
   "mimetype": "text/x-python",
   "name": "python",
   "nbconvert_exporter": "python",
   "pygments_lexer": "ipython3",
   "version": "3.8.10"
  },
  "orig_nbformat": 4
 },
 "nbformat": 4,
 "nbformat_minor": 2
}
